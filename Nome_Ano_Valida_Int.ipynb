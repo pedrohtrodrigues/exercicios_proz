{
  "nbformat": 4,
  "nbformat_minor": 0,
  "metadata": {
    "colab": {
      "provenance": [],
      "authorship_tag": "ABX9TyNik77Vkop4UXDZt85iJ2co"
    },
    "kernelspec": {
      "name": "python3",
      "display_name": "Python 3"
    },
    "language_info": {
      "name": "python"
    }
  },
  "cells": [
    {
      "cell_type": "markdown",
      "source": [
        "Desenvolva um programa que recebe do usuário nome completo e ano de nascimento que seja entre 1922 e 2021.\n",
        "A partir dessas informações, o sistema mostrará o nome do usuário e a idade que completou, ou completará, no ano atual (2022).\n",
        "\n",
        "Caso o usuário não digite um número ou apareça um item inválido no campo do ano, o sistema informará o erro e continuará perguntando até que um valor correto seja preenchido.\n"
      ],
      "metadata": {
        "id": "lrxjZNClpIk7"
      }
    },
    {
      "cell_type": "code",
      "source": [
        "anoCorreto = False\n",
        "\n",
        "print (\"Digite seu nome completo:\");\n",
        "nome = input();\n",
        "\n",
        "while (anoCorreto == False):\n",
        "  try:\n",
        "    print (\"Digite o Ano do seu nascimento:\");\n",
        "    ano = int(input());\n",
        "    if ano >= 1922 and ano <= 2022:\n",
        "      print (\"Nome: \" + str(nome));\n",
        "      idade = 2022 - ano;\n",
        "      print (\"O usuário \", nome,\" completará \", idade, \" de idade em 2022.\");\n",
        "      break;\n",
        "    else:\n",
        "      print (\"Ano fora do escopo entre 1922 e 2021.\")\n",
        "      print (\" \");\n",
        "      anoCorreto == False;\n",
        "\n",
        "  except ValueError:\n",
        "    print(\"Valor digitado para Ano, não é númerico.\")\n",
        "    print (\" \");\n",
        "    anoCorreto == False;"
      ],
      "metadata": {
        "colab": {
          "base_uri": "https://localhost:8080/"
        },
        "id": "Lz0dp6cvpJP6",
        "outputId": "47082c6f-ce77-4860-ed22-b4b9adbb153b"
      },
      "execution_count": 16,
      "outputs": [
        {
          "output_type": "stream",
          "name": "stdout",
          "text": [
            "Digite seu nome completo:\n",
            "Pedro HT\n",
            "Digite o Ano do seu nascimento:\n",
            "1979\n",
            "Nome: Pedro HT\n",
            "O usuário  Pedro HT  completará  43  de idade em 2022.\n"
          ]
        }
      ]
    }
  ]
}