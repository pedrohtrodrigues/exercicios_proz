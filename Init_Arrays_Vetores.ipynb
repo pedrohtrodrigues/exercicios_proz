{
  "nbformat": 4,
  "nbformat_minor": 0,
  "metadata": {
    "colab": {
      "provenance": [],
      "authorship_tag": "ABX9TyMgc0IYpqcY1cJnb7U/IxK+"
    },
    "kernelspec": {
      "name": "python3",
      "display_name": "Python 3"
    },
    "language_info": {
      "name": "python"
    }
  },
  "cells": [
    {
      "cell_type": "markdown",
      "source": [
        "Declare dois arrays, cada um com um mínimo de cinco elementos, e imprima eles no terminal usando o comando print().\n",
        "O primeiro array deve conter os produtos de uma loja da sua escolha (loja de comida, materiais de construção, música, etc).\n",
        "O segundo array deve conter os anos de nascimento de familiares e amigos seus.\n",
        "\n",
        "Lembre-se de usar nomes descritivos para nomear cada variável, e de usar o tipo de dado apropriado para cada lista (strings, booleanos, números inteiros, floats).\n"
      ],
      "metadata": {
        "id": "Jr22eKp6rd1e"
      }
    },
    {
      "cell_type": "code",
      "source": [
        "produtos = [\"Batata Frita\", \"Nuggets\", \"Hamburger\", \"Ketchup\", \"Refrigerante\", \"Sobremesa\"];\n",
        "anos = [1979, 1965, 1950,  1967, 2007, 2009];\n",
        "\n",
        "print (\"Nossos produtos:\", produtos);\n",
        "print (\"Anos de nascimento:\", anos);"
      ],
      "metadata": {
        "colab": {
          "base_uri": "https://localhost:8080/"
        },
        "id": "e9KSkYCPreF-",
        "outputId": "8bdab71a-a997-4090-e5ad-018d8b68631b"
      },
      "execution_count": 2,
      "outputs": [
        {
          "output_type": "stream",
          "name": "stdout",
          "text": [
            "Nossos produtos: ['Batata Frita', 'Nuggets', 'Hamburger', 'Ketchup', 'Refrigerante', 'Sobremesa']\n",
            "Anos de nascimento: [1979, 1965, 1950, 1967, 2007, 2009]\n"
          ]
        }
      ]
    }
  ]
}