{
  "nbformat": 4,
  "nbformat_minor": 0,
  "metadata": {
    "colab": {
      "provenance": [],
      "authorship_tag": "ABX9TyNM0jYipgkKJzB531HIlgqG"
    },
    "kernelspec": {
      "name": "python3",
      "display_name": "Python 3"
    },
    "language_info": {
      "name": "python"
    }
  },
  "cells": [
    {
      "cell_type": "markdown",
      "source": [
        "A loja de cosméticos ficou muito feliz com seu trabalho e chamaram você novamente! Dessa vez, eles precisam que você atualize o array de produtos. Agora, eles estão vendendo rímel ao invés de batons, e cremes hidratantes no lugar de loções. Além disso, ficaram sem delineadores, então precisam que você remova ele da lista de produtos. Imprima a nova lista no terminal para verificar que as alterações foram realizadas corretamente.\n",
        "\n",
        "lista_produtos = ['máscaras faciais', 'batons', 'esmaltes', 'perfumes', 'loções', 'xampus', 'sabonetes', 'delineadores']\n",
        "\n",
        "Como desafio, adicione dois novos produtos da sua escolha à lista."
      ],
      "metadata": {
        "id": "k0amiqpcCgBy"
      }
    },
    {
      "cell_type": "code",
      "source": [
        "lista_produtos = ['máscaras faciais', 'batons', 'esmaltes', 'perfumes', 'loções', 'xampus', 'sabonetes', 'delineadores'];\n",
        "print (\"Lista de produtos inicial:\", lista_produtos);\n",
        "print (\" \");\n",
        "\n",
        "lista_produtos [1] = \"rímel\";\n",
        "print (\"Lista de produtos ajuste (rímel):\", lista_produtos);\n",
        "print (\" \");\n",
        "\n",
        "lista_produtos [4] = \"cremes hidratantes\";\n",
        "print (\"Lista de produtos ajuste (creme hidratante):\", lista_produtos);\n",
        "print (\" \");\n",
        "\n",
        "lista_produtos.remove(\"delineadores\");\n",
        "print (\"Lista de produtos ajuste (sem delineadores):\", lista_produtos);\n",
        "print (\" \");\n",
        "\n",
        "lista_produtos.append('lixa de unha');\n",
        "lista_produtos.append('barbeador');\n",
        "print (\"Lista de produtos produtos adicionados:\", lista_produtos);\n",
        "\n",
        "\n",
        "\n",
        "\n"
      ],
      "metadata": {
        "colab": {
          "base_uri": "https://localhost:8080/"
        },
        "id": "W4EswV5gCgLq",
        "outputId": "5195f590-8b56-4891-e3d8-2a81420b0232"
      },
      "execution_count": 3,
      "outputs": [
        {
          "output_type": "stream",
          "name": "stdout",
          "text": [
            "Lista de produtos inicial: ['máscaras faciais', 'batons', 'esmaltes', 'perfumes', 'loções', 'xampus', 'sabonetes', 'delineadores']\n",
            " \n",
            "Lista de produtos ajuste (rímel): ['máscaras faciais', 'rímel', 'esmaltes', 'perfumes', 'loções', 'xampus', 'sabonetes', 'delineadores']\n",
            " \n",
            "Lista de produtos ajuste (creme hidratante): ['máscaras faciais', 'rímel', 'esmaltes', 'perfumes', 'cremes hidratantes', 'xampus', 'sabonetes', 'delineadores']\n",
            " \n",
            "Lista de produtos ajuste (sem delineadores): ['máscaras faciais', 'rímel', 'esmaltes', 'perfumes', 'cremes hidratantes', 'xampus', 'sabonetes']\n",
            " \n",
            "Lista de produtos produtos adicionados: ['máscaras faciais', 'rímel', 'esmaltes', 'perfumes', 'cremes hidratantes', 'xampus', 'sabonetes', 'lixa de unha', 'barbeador']\n",
            " \n"
          ]
        }
      ]
    }
  ]
}