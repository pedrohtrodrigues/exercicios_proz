{
  "nbformat": 4,
  "nbformat_minor": 0,
  "metadata": {
    "colab": {
      "provenance": [],
      "authorship_tag": "ABX9TyOYwhm8GX6ZFHUfcbCzabil"
    },
    "kernelspec": {
      "name": "python3",
      "display_name": "Python 3"
    },
    "language_info": {
      "name": "python"
    }
  },
  "cells": [
    {
      "cell_type": "markdown",
      "source": [
        "Precisamos imprimir um número para cada andar de um hotel de 20 andares. Porém, o dono do hotel é supersticioso e optou por não ter um 13ro andar.\n",
        "\n",
        "Escreva um código que imprima todos os números exceto o número 13.\n",
        "Escreva mais um código que resolva o mesmo problema, mas dessa vez usando o laço de repetição 'while'.\n",
        "\n",
        "Como desafio, imprima eles em ordem decrescente (20, 19, 18...)"
      ],
      "metadata": {
        "id": "3AuO79AudMvj"
      }
    },
    {
      "cell_type": "code",
      "source": [
        "# Usando o laço com FOR\n",
        "\n",
        "for i in range (20, 0, -1):\n",
        "  if i == 13:\n",
        "    continue\n",
        "  print (\"Andar:\",i)"
      ],
      "metadata": {
        "colab": {
          "base_uri": "https://localhost:8080/"
        },
        "id": "Qct_4xQRdN20",
        "outputId": "b32ff1f9-1d31-4ba5-aff5-859939b650eb"
      },
      "execution_count": null,
      "outputs": [
        {
          "output_type": "stream",
          "name": "stdout",
          "text": [
            "Andar: 20\n",
            "Andar: 19\n",
            "Andar: 18\n",
            "Andar: 17\n",
            "Andar: 16\n",
            "Andar: 15\n",
            "Andar: 14\n",
            "Andar: 12\n",
            "Andar: 11\n",
            "Andar: 10\n",
            "Andar: 9\n",
            "Andar: 8\n",
            "Andar: 7\n",
            "Andar: 6\n",
            "Andar: 5\n",
            "Andar: 4\n",
            "Andar: 3\n",
            "Andar: 2\n",
            "Andar: 1\n"
          ]
        }
      ]
    },
    {
      "cell_type": "code",
      "source": [
        "# Usando o laço com WHILE\n",
        "\n",
        "i=20;\n",
        "while i > 0:\n",
        "  if i == 13:\n",
        "    i=(i-1);\n",
        "  else:\n",
        "    print(\"Andar:\", i);\n",
        "    i=(i-1);"
      ],
      "metadata": {
        "colab": {
          "base_uri": "https://localhost:8080/"
        },
        "id": "G3rcXi4peQST",
        "outputId": "fa22ee12-e601-4d46-c3e1-2666f48738e6"
      },
      "execution_count": null,
      "outputs": [
        {
          "output_type": "stream",
          "name": "stdout",
          "text": [
            "Andar: 20\n",
            "Andar: 19\n",
            "Andar: 18\n",
            "Andar: 17\n",
            "Andar: 16\n",
            "Andar: 15\n",
            "Andar: 14\n",
            "Andar: 12\n",
            "Andar: 11\n",
            "Andar: 10\n",
            "Andar: 9\n",
            "Andar: 8\n",
            "Andar: 7\n",
            "Andar: 6\n",
            "Andar: 5\n",
            "Andar: 4\n",
            "Andar: 3\n",
            "Andar: 2\n",
            "Andar: 1\n"
          ]
        }
      ]
    }
  ]
}