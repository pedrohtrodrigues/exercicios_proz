{
  "nbformat": 4,
  "nbformat_minor": 0,
  "metadata": {
    "colab": {
      "provenance": [],
      "authorship_tag": "ABX9TyNp+701TmoqLU4Cs8imnfrb"
    },
    "kernelspec": {
      "name": "python3",
      "display_name": "Python 3"
    },
    "language_info": {
      "name": "python"
    }
  },
  "cells": [
    {
      "cell_type": "markdown",
      "source": [
        "Faça uma função calculadora que os números e as operações serão feitas pelo usuário. O código deve ficar rodando infinitamente até que o usuário escolha a opção de sair. No início, o programa mostrará a seguinte lista de operações:\n",
        "\n",
        "1: Soma\n",
        "2: Subtração\n",
        "3: Multiplicação\n",
        "4: Divisão\n",
        "0: Sair\n",
        "\n",
        "Digite o número para a operação correspondente e caso o usuário introduza qualquer outro, o sistema deve mostrar a mensagem “Essa opção não existe” e voltar ao menu de opções.\n",
        "\n",
        "Após a seleção, o sistema deve pedir para o usuário inserir o primeiro e segundo valor, um de cada. Depois precisa executar a operação e mostrar o resultado na tela. Quando o usuário escolher a opção “Sair”, o sistema irá parar.\n",
        "\n",
        "É necessário que o sistema mostre as opções sempre que finalizar uma operação e mostrar o resultado."
      ],
      "metadata": {
        "id": "rBGVu9anwAlv"
      }
    },
    {
      "cell_type": "code",
      "source": [
        "def operacao (num1, num2, operador):\n",
        "  if operador==1:\n",
        "    return num1+num2;\n",
        "  elif operador==2:\n",
        "    return num1-num2;\n",
        "  elif operador==3:\n",
        "    return num1*num2;\n",
        "  elif operador==4:\n",
        "    if num2==0:\n",
        "      print (\"  \");\n",
        "      print (\"ERRO: Valor do segundo número igual a zero.\");\n",
        "      print (\"  \");\n",
        "      print (\"Insira uma nova opção: 1: Soma 2: Subtração 3: Multiplicação 4: Divisão ou 0: Sair \");\n",
        "      operador = int(input());\n",
        "      print (\" \");\n",
        "    else:\n",
        "      return num1/num2;\n",
        "\n",
        "print (\"Insira uma opção: 1: Soma 2: Subtração 3: Multiplicação 4: Divisão ou 0: Sair \");\n",
        "operador = int(input());\n",
        "\n",
        "if operador==0:\n",
        "    print (\"Saindo do Sistema.\");\n",
        "\n",
        "while operador != 0:\n",
        "  if operador not in (0, 1, 2, 3, 4):\n",
        "    print (\"Essa opção não existe.\");\n",
        "    print (\" \");\n",
        "    print (\"Insira uma nova opção: 1: Soma 2: Subtração 3: Multiplicação 4: Divisão ou 0: Sair \");\n",
        "    operador = int(input());\n",
        "    print (\" \");\n",
        "    continue;\n",
        "  elif operador in (1, 2, 3, 4):\n",
        "    num1 = int(input(\"Insira o primeiro número: \"));\n",
        "    num2 = int(input(\"Insira o segundo número: \"));\n",
        "    resultado = operacao(num1, num2, operador);\n",
        "    print (\"Resultado é igual a: \", resultado);\n",
        "    print (\" \");\n",
        "    print (\"Insira uma nova opção: 1: Soma 2: Subtração 3: Multiplicação 4: Divisão ou 0: Sair \");\n",
        "    operador = int(input());"
      ],
      "metadata": {
        "colab": {
          "base_uri": "https://localhost:8080/"
        },
        "id": "NrOCF96iwCO2",
        "outputId": "86a63825-241c-4a48-a929-04e2ff6f562e"
      },
      "execution_count": 9,
      "outputs": [
        {
          "output_type": "stream",
          "name": "stdout",
          "text": [
            "Insira uma opção: 1: Soma 2: Subtração 3: Multiplicação 4: Divisão ou 0: Sair \n",
            "0\n",
            "Saindo do Sistema.\n"
          ]
        }
      ]
    }
  ]
}