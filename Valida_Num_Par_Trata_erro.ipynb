{
  "nbformat": 4,
  "nbformat_minor": 0,
  "metadata": {
    "colab": {
      "provenance": [],
      "authorship_tag": "ABX9TyOnSv9wkH8Sa3x5QUeXviD+"
    },
    "kernelspec": {
      "name": "python3",
      "display_name": "Python 3"
    },
    "language_info": {
      "name": "python"
    }
  },
  "cells": [
    {
      "cell_type": "markdown",
      "source": [
        "Problema: Desenvolva um programa que só deve aceitar números pares. Siga as seguintes instruções:\n",
        "\n",
        "caso um número ímpar seja digitado, informe ao usuário que ele digitou um valor ímpar e peça novamente por um número par;\n",
        "\n",
        "caso uma letra seja digitada, informe ao usuário que ele digitou um caractere inválido e peça novamente por um número par."
      ],
      "metadata": {
        "id": "zP8F5yetBqHJ"
      }
    },
    {
      "cell_type": "code",
      "source": [
        "numeroCorreto = False\n",
        "\n",
        "while (numeroCorreto == False):\n",
        "\n",
        "   print(\"Insira um número par\")\n",
        "\n",
        "   try:\n",
        "\n",
        "       numero = int(input())\n",
        "\n",
        "       if (numero%2 == 0):\n",
        "\n",
        "           numeroCorreto = True\n",
        "\n",
        "           print(\"Você digitou um numero par !\")\n",
        "\n",
        "       else :\n",
        "\n",
        "           print(\"Você digitou um número impar\")\n",
        "\n",
        "   except:\n",
        "\n",
        "       print(\"Caracter inválido, por favor digite um número par\")"
      ],
      "metadata": {
        "id": "slPMhLXsBqh5",
        "colab": {
          "base_uri": "https://localhost:8080/"
        },
        "outputId": "60bc15fb-033e-4208-a034-b0824e153efa"
      },
      "execution_count": 1,
      "outputs": [
        {
          "output_type": "stream",
          "name": "stdout",
          "text": [
            "Insira um número par\n",
            "2\n",
            "Você digitou um numero par !\n"
          ]
        }
      ]
    }
  ]
}