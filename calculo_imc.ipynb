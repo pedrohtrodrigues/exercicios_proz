{
  "nbformat": 4,
  "nbformat_minor": 0,
  "metadata": {
    "colab": {
      "provenance": [],
      "authorship_tag": "ABX9TyP1S/twsGhlvhE4+8kaztXf"
    },
    "kernelspec": {
      "name": "python3",
      "display_name": "Python 3"
    },
    "language_info": {
      "name": "python"
    }
  },
  "cells": [
    {
      "cell_type": "code",
      "execution_count": null,
      "metadata": {
        "id": "N6rIY43dWIM4"
      },
      "outputs": [],
      "source": [
        "# Problema: João precisa calcular seu Índice de Massa Corporal (IMC) para avaliar seu peso ideal.\n",
        "# Sabendo que a fórmula para calcular o IMC é: peso ÷ altura², crie um programa que calcule e informe a classificação do IMC."
      ]
    },
    {
      "cell_type": "code",
      "source": [
        "def calculadoraImc(peso, altura):\n",
        "\n",
        "     imc = peso/(altura*altura) * 10000\n",
        "\n",
        "     print (imc)\n",
        "\n",
        "     if (imc <= 18.5): return \"Magreza\"\n",
        "\n",
        "     elif (imc > 18.5) and (imc <= 24.9): return \"Saudavel\"\n",
        "\n",
        "     elif (imc >= 25) and (imc <= 29.9): return \"Sobrepeso\"\n",
        "\n",
        "     elif (imc > 30) and (imc <= 34.9): return \"Obesidade grau 1\"\n",
        "\n",
        "     elif (imc > 35) and (imc <= 39.9): return \"Obesidade severa grau 2\"\n",
        "\n",
        "     else : return \"Obesidade morbida grau 3\"\n",
        "\n",
        "peso = 83\n",
        "\n",
        "altura = 186\n",
        "\n",
        "resultado = calculadoraImc(peso,altura)\n",
        "\n",
        "print(resultado)"
      ],
      "metadata": {
        "colab": {
          "base_uri": "https://localhost:8080/"
        },
        "id": "1oXbUBIGWNjI",
        "outputId": "99a80689-68e5-428c-8cdc-7d87caf86d47"
      },
      "execution_count": 5,
      "outputs": [
        {
          "output_type": "stream",
          "name": "stdout",
          "text": [
            "23.991212856977686\n",
            "Saudavel\n"
          ]
        }
      ]
    }
  ]
}