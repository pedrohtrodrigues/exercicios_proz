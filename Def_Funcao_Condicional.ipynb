{
  "nbformat": 4,
  "nbformat_minor": 0,
  "metadata": {
    "colab": {
      "provenance": [],
      "authorship_tag": "ABX9TyPN0JlS9BrRcUSiFVfEu6PO"
    },
    "kernelspec": {
      "name": "python3",
      "display_name": "Python 3"
    },
    "language_info": {
      "name": "python"
    }
  },
  "cells": [
    {
      "cell_type": "markdown",
      "source": [
        "Faça uma função calculadora de dois números com três parâmetros: os dois primeiros serão os números da operação e o terceiro será a entrada que definirá a operação a ser executada. Considera a seguinte definição:\n",
        "1. Soma\n",
        "2. Subtração\n",
        "3. Multiplicação\n",
        "4. Divisão\n",
        "\n",
        "Caso seja inserido um número de operação que não exista, o resultado deverá ser 0.\n"
      ],
      "metadata": {
        "id": "i2GzvuY6aumH"
      }
    },
    {
      "cell_type": "code",
      "source": [
        "def operacao (num1, num2, operador):\n",
        "  if operador==1:\n",
        "    return num1+num2;\n",
        "  elif operador==2:\n",
        "    return num1-num2;\n",
        "  elif operador==3:\n",
        "    return num1*num2;\n",
        "  elif operador==4:\n",
        "    return num1/num2;\n",
        "\n",
        "num1 = int(input(\"Insira o primeiro número: \"));\n",
        "num2 = int(input(\"Insira o segundo número: \"));\n",
        "operador = int(input(\"Insira: 1 (Soma), 2 (Subtração), 3 (Multiplicação), ou 4 (Divisão\"));\n",
        "\n",
        "#print (num1);\n",
        "#print (num2);\n",
        "#print (operador);\n",
        "\n",
        "if operador in (1, 2, 3, 4):\n",
        "  resultado = operacao(num1, num2, operador);\n",
        "  print (\"Resultado é igual a: \", resultado);\n",
        "else:\n",
        "  print (\"Opção de Operador errado. Tente executar novamente.\");"
      ],
      "metadata": {
        "colab": {
          "base_uri": "https://localhost:8080/"
        },
        "id": "PMgS2tQravRO",
        "outputId": "1d6ee56f-ed9b-43df-8f7c-d01c20e427b8"
      },
      "execution_count": 45,
      "outputs": [
        {
          "output_type": "stream",
          "name": "stdout",
          "text": [
            "Insira o primeiro número: 2\n",
            "Insira o segundo número: 3\n",
            "Insira: 1 (Soma), 2 (Subtração), 3 (Multiplicação), ou 4 (Divisão1\n",
            "Resultado é igual a:  5\n"
          ]
        }
      ]
    }
  ]
}